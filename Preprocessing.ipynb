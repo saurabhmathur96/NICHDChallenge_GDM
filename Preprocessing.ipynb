{
 "cells": [
  {
   "cell_type": "code",
   "execution_count": 31,
   "id": "d14a83f0",
   "metadata": {},
   "outputs": [],
   "source": [
    "import pandas as pd\n",
    "import numpy as np"
   ]
  },
  {
   "cell_type": "markdown",
   "id": "7f58e298",
   "metadata": {},
   "source": [
    "# Subsetting the data to features of interest"
   ]
  },
  {
   "cell_type": "markdown",
   "id": "7ebe3668",
   "metadata": {},
   "source": [
    "## Load the full dataset"
   ]
  },
  {
   "cell_type": "code",
   "execution_count": 170,
   "id": "c3f1a0f2",
   "metadata": {
    "collapsed": true
   },
   "outputs": [
    {
     "name": "stderr",
     "output_type": "stream",
     "text": [
      "/Library/Frameworks/Python.framework/Versions/3.9/lib/python3.9/site-packages/IPython/core/interactiveshell.py:3441: DtypeWarning: Columns (2,4,12,14,16,18,20,22,26,28,30,32,64,65,66,67,68,69,79,82,85,91,94,97,100,101,102,103,104,105,111,112,113,114,125,129,130,133,134,143,149,151,153,156,157,160,164,165,167,170,174,175,183,213,230,237,238,255,256,266,269,270,273,274,286,288,292,293,294,295,322,326,327,334,335,336,337,347,366,367,368,373,374,380,381,389,392,393,394,404,405,407,409,412,416,419,422,425,428,429,430,434,435,436,437,438,439,440,441,442,444,445,446,449,450,452,453,456,458,460,471,478,480,482,483,486,488,490,491,494,496,498,502,503,508,511,514,515,517,518,520,521,539,543,551,557,560,568,572,576,577,579,581,582,583,584,592,593,594,598,599,605,606,607,608,610,612,619,625,630,631,635,636,642,643,644,645,650,663,665,667,669,671,681,690,695,707,723,725,738,751,753,793,794,798,802,818,821,822,825,826,829,830,833,834,837,838,841,844,847,848,849,850,852,853,854,855,856,857,858,859,862,863,864,867,868,869,870,871,874,880,881,882,884,885,886,887,890,891,892,894,895,897,900,901,902,903,905,906,908,910,911,913,919,921,923,924,926,929,931,933,934,935,937,940,942,945,947,950,951,952,953,955,956,957,958,961,962,963,965,966,967,972,974,976,980,986,991,992,994,995,996,997,998,1002,1003,1004,1005,1006,1007,1009,1010,1011,1013,1019,1020,1021,1022,1023,1028,1032,1033,1034,1035,1036,1038,1039,1040,1042,1043,1044,1045,1048,1049,1050,1051,1052,1053,1054,1055,1057,1061,1067,1077,1086,1120,1126,1136,1177,1190,1197,1199,1200,1201,1203,1225,1229,1231,1233,1235,1237,1239,1241,1243,1249,1256,1257,1258,1259,1261,1272,1273,1274,1275,1276,1277,1278,1280,1281,1282,1286,1288,1289,1291,1294,1295,1298,1299,1302,1303,1314,1315,1316,1317,1318,1319,1320,1321,1322,1323,1324,1328,1329,1330,1331,1332,1333,1334,1339,1345,1351,1358,1362,1392,1395,1397,1398,1399,1400,1402,1403,1412,1414,1419,1425,1442,1455,1456,1461,1462,1465,1466,1467,1469,1470,1485,1486,1487,1488,1489,1490,1491,1492,1493,1494,1495,1496,1497,1498,1499,1500,1506,1516,1525,1530,1535,1540,1549,1550,1552,1553,1554,1560,1561,1563,1564,1565,1566,1568,1575,1577,1578,1580,1600,1607,1615,1618,1621,1622,1624,1627,1628,1629,1639,1642,1645,1648,1651,1656,1657,1658,1659,1660,1661,1671,1674,1675,1683,1684,1688,1689,1692,1693,1696,1701,1702,1703,1704,1705,1706,1707,1708,1709,1710,1711,1712,1713,1722,1727,1728,1729,1730,1732,1733,1734,1735,1737,1738,1739,1740,1742,1743,1744,1745,1747,1748,1749,1750,1752,1753,1754,1755,1757,1758,1759,1760,1762,1763,1764,1765,1767,1768,1769,1770,1772,1773,1774,1775,1777,1778,1779,1781,1782,1783,1784,1785,1787,1788,1789,1790,1792,1793,1794,1795,1797,1798,1799,1800,1802,1803,1804,1805,1807,1808,1809,1810,1812,1813,1814,1822,1823,1832,1833,1842,1843,1862,1863,1864,1865,1866,1867,1868,1869,1870,1871,1872,1873,1874,1875,1876,1877,1878,1879,1880,1881,1882,1883,1884,1885,1886,1887,1888,1889,1890,1891,1892,1893,1894,1895,1896,1897,1898,1899,1900,1901,1922,1923,1924,1925,1926,1927,1928,1929,1930,1931,1932,1933,1934,1935,1936,1937,1938,1939,1940,1941,1942,1943,1944,1945,1946,1987,1988,1989,1990,1991,1992,2007,2008,2009,2010,2011,2012,2017,2018,2019,2020,2021,2022,2023,2024,2027,2028,2029,2030,2031,2037,2038,2039,2040,2041,2042,2044,2047,2048,2049,2050,2051,2052,2053,2054,2057,2058,2059,2060,2061,2062,2067,2068,2069,2070,2071,2077,2078,2079,2081,2082,2083,2084,2085,2102,2107,2117,2118,2122,2123,2133,2134,2137,2138,2139,2142,2147,2148,2149,2152,2157,2158,2159,2162,2163,2164,2167,2168,2169,2172,2173,2174,2177,2178,2179,2187,2188,2192,2193,2197,2198,2202,2203,2204,2207,2208,2209,2212,2213,2214,2217,2218,2219,2222,2227,2228,2242,2243,2247,2248,2252,2257,2258,2272,2273,2277,2278,2287,2288,2297,2298,2302,2303,2312,2317,2318,2322,2323,2324,2327,2328,2342,2343,2344,2352,2367,2382,2383,2384,2385,2386,2387,2388,2389,2390,2391,2392,2393,2394,2395,2396,2397,2398,2399,2400,2401,2407,2408,2409,2410,2411,2412,2432,2433,2434,2435,2442,2443,2444,2445,2452,2467,2468,2469,2477,2478,2479,2502,2512,2552,2562,2572,2597,2598,2599,2607,2609,2622,2682,2732,2782,2818,2872,2922,2923,2924,2927,2928,2929,2930,2931,2932,2933,2934,2935,2936,2937,2938,2939,2940,2941,2942,2943,2944,2945,2946,2947,2948,2949,2950,2951,2952,2957,2958,2959,2960,2961,2962,2963,2964,2967,2977,2982,2983,2984,2985,2986,2987,2988,2989,2990,2991,2992,2993,2994,2995,2996,2997,2998,2999,3000,3001,3002,3003,3004,3005,3006,3012,3013,3014,3015,3016,3017,3032,3037,3038,3039,3040,3041,3042,3043,3044,3045,3046,3047,3048,3049,3050,3051,3052,3053,3054,3055,3056,3057,3058,3059,3060,3061,3067,3068,3069,3070,3071,3072,3087,3092,3093,3094,3095,3096,3097,3098,3099,3100,3101,3102,3103,3104,3105,3106,3107,3108,3109,3110,3111,3112,3113,3114,3115,3116,3122,3123,3124,3125,3126,3137,3138,3142,3146,3147,3148,3149,3150,3151,3152,3154,3156,3158,3162,3174,3177,3180,3186,3189,3192,3198,3200,3201,3203,3204,3206,3207,3208,3210,3211,3298,3299,3304,3305,3306,3308,3309,3311,3313,3314,3315,3317,3318,3319,3321,3323,3325,3326,3330,3331,3335,3336,3340,3341,3343,3345,3346,3350,3351,3355,3356,3360,3361,3365,3366,3370,3371,3374,3375,3376,3377,3378,3379,3382,3383,3385,3386,3387,3390,3392,3395,3397,3402,3412,3440,3451,3452,3453,3454,3455,3456,3457,3458,3459,3460,3463,3464,3465,3466,3467,3468,3469,3470,3471,3472,3475,3476,3477,3478,3479,3480,3482,3483,3484,3487,3488,3489,3490,3491,3492,3494,3495,3496,3502,3503,3505,3508,3511,3514,3518,3520,3523,3524,3526,3532,3533,3543,3554,3567,3569,3571,3582,3584,3590,3593,3607,3609,3618,3619,3623,3624,3625,3627,3629,3631,3633,3692,3693,3694,3695,3696,3697,3698,3699,3700,3701,3702,3703,3704,3705,3706,3707,3708,3709,3710,3711,3748,3749,3750,3751,3752,3753,3754,3755,3756,3757,3758,3759,3760,3761,3762,3763,3764,3765,3766,3767,3768,3769,3770,3771,3772,3773,3774,3777,3778,3804,3805,3806,3807,3808,3809,3810,3811,3812,3813,3814,3815,3816,3817,3818,3819,3820,3821,3822,3823,3860,3861,3862,3863,3864,3865,3866,3867,3868,3869,3870,3871,3872,3873,3874,3875,3876,3877,3878,3879,3888,3889,3890,3891,3892,3893,3894,3895,3896,3897,3898,3899,3900,3901,3902,3903,3904,3905,3906,3907,3936,3937,3938,3939,3940,3941,3942,3943,3944,3945,3946,3947,3948,3949,3950,3951,3957,3964,3965,3966,3967,3968,3969,3970,3971,3972,3973,3974,3975,3976,3978,4076,4077,4080,4082,4084,4085,4086,4087,4088,4102,4103,4104,4105,4425,4427,4429,4431,4433,4435,4439,4441,4443,4445,4447,4449,4451,4453,4455,4457,4459,4461,4463,4465,4467,4469,4471,4473,4475,4477,4479,4481,4483,4485,4487,4489,4491,4493,4495,4497,4499,4501,4503,4505,4507,4509,4511,4513,4515,4517,4519,4521,4523,4525,4528,4530,4532,4534,4536,4538,4540,4542,4544,4546,4548,4550,4552,4554,4556,4558,4560,4562,4564,4566,4568,4570,4572,4574,4576,4578,4580,4582,4584,4586,4588,4590,4592,4594,4596,4598,4600,4602,4604,4606,4608,4610,4612,4614,4616,4618,4620,4622,4624,4626,4628,4630,4632,4634,4636,4638,4640,4642,4644,4646,4648,4650,4652,4654,4656,4658,4660,4662,4670,4671,4672,4717,4719,4721,4723,4725,4727,4729,4731,4733,4735,4737,4739,4741,4743,4749,4750,4752,4754,4756,4758,4760,4762,4764,4766,4838,4839,4847,4848,4849,4851,4858,4859,4860,4861,4862,4863,4867,4868,4869,4870,4871,4872,4873,4874,4879,4880,4881,4882,4883,4884,4957,4985,4986,4987,4988,4989,4990,4991,4992,4993,4994,4995,4998,4999,5000,5001,5002,5003,5004,5006,5007,5017,5020,5024,5025,5027,5028,5030,5056,5057,5058,5059,5060,5062,5063,5066,5067,5069,5070,5072,5073,5075,5076,5083,5084,5085,5087,5088,5090,5091,5114,5122,5123,5124,5127,5128,5131,5132,5133,5134,5136,5140,5141,5142,5145,5146,5149,5150,5153,5154,5157,5158,5161,5162,5165,5166,5169,5170,5174,5175,5178,5179,5182,5183,5186,5187,5190,5191,5194,5195,5198,5199,5222,5223,5226,5227,5230,5231,5247,5248,5249,5250,5251,5252,5253,5254,5255,5256,5257,5258,5259,5260,5275,5276,5277,5278,5279,5280,5281,5282,5283,5284,5285,5286,5287,5288,5738,5739,5740,5741,5742,5743,5744,5745,5746,5747,5748,5749,5750,5751,5759,5760,5761,5762,5763,5764,5765,5766,5767,5768,5769,5770,5771,5772,5775,5776,5777,5778,5779,5794,5813,5832,5847,5862,5877,5899,5900,5901,5902,5903,5904,5905,5906,5908,5910,5912,5914,5916,5917,5918,5919,5920,5921,5922,5923,5925,5927,5929,5931,5973,5981,5982,5983,5986,5987,5990,5991,5992,5993,5995,5999,6000,6001,6004,6005,6008,6009,6012,6013,6016,6017,6020,6021,6024,6025,6028,6029,6033,6034,6037,6038,6041,6042,6045,6046,6049,6050,6053,6054,6057,6058,6081,6082,6085,6086,6089,6090,6106,6107,6108,6109,6110,6111,6112,6113,6114,6115,6116,6117,6118,6119,6134,6135,6136,6137,6138,6139,6140,6141,6142,6143,6144,6145,6146,6147,6597,6598,6599,6600,6601,6602,6603,6604,6605,6606,6607,6608,6609,6610,6618,6619,6620,6621,6622,6623,6624,6625,6626,6627,6628,6629,6630,6631,6634,6635,6636,6637,6638,6653,6672,6691,6706,6721,6736,6758,6759,6760,6761,6762,6763,6764,6765,6767,6769,6771,6773,6775,6776,6777,6778,6779,6780,6781,6782,6784,6786,6788,6790,6853,6854,6936,6937,6989,6990,6993,6994,7021,7022,7025,7026,7033,7034,8493,8496,8497,8506,8507,8508,8509,8510,8511,8512,8514,8520,8521,8522,8523,8524,8525,8526,8528,8540,8541,8542,8551,8554,8555,8558,8559,8560,8561,8562,8577,8578,8581,8583,8594,8597,8598,8608,8609,8610,8611,8612,8613,8614,8616,8622,8623,8624,8625,8626,8627,8628,8630,8637,8640,8641,8644,8645,8646,8647,8648,8649,8650,8651,8652,8664,8667,8668,8671,8673,8684,8687,8688,8697,8698,8699,8700,8701,8702,8703,8705,8711,8712,8713,8714,8715,8716,8717,8719,8726,8742,8743,8744,8745,8746,8747,8748,8749,8750,8751,8752,8753,8754,8755,8756,8757,8758,8759,8765,8768,8769,8770,8771,8772,8773,8774,8775,8776,8777,8778,8779,8780,8781,8782,8783,8784,8785,8791,8794,8797,8800,8801,8814,8817,8824,8825,8828,8839,8840,8841,8842,8843,8844,8845,8846,8848,8851,8852,8854,8857,8858,8859,8860,8861,8864,8865,8868,8869,8870,8871,8873,8874,8875,8876,8877,8878,8879,8880,8881,8882,8883,8884,8885,8886,8887,8888,8889,8890,8891,8892,8894,8895,8896,8897,8899,8900,8901,8902,8903,8904,8905,8906,8907,8908,8909,8910,8911,8912,8913,8914,8915,8916,8917,8918,8920,8921,8922,8923,8925,8926,8927,8928,8930,8931,8932,8933,8934,8935,8936,8937,8938,8939,8940,8941,8942,8943,8944,8946,8947,8948,8949,8952,8953,8954,8956,8957,8958,8959,8960,8962,8963,8964,8965,8966,8967,8968,8969,8970,8972,8973,8974,8975,8978,8979,8980,8982,8983,8984,8985,8986,8988,8990,8991,8992,8993,8994,8996,8998,8999,9000,9001,9004,9005,9006,9008,9009,9010,9011,9012,9014,9016,9017,9018,9019,9020,9022,9024,9025,9026,9027,9030,9031,9032,9034,9035,9036,9037,9038,9040,9042,9043,9044,9045,9046,9048,9050,9051,9052,9053,9056,9057,9058,9060,9061,9062,9063,9064,9066,9068,9069,9070,9071,9072,9074,9076,9077,9078,9079,9082,9083,9084,9086,9087,9088,9089,9090,9092,9094,9095,9096,9097,9098,9100,9102,9103,9104,9105,9108,9109,9110,9112,9113,9114,9115,9116,9118,9120,9121,9122,9123,9124,9126,9129,9134,9135,9136,9143,9144,9145,9146,9147,9148,9149,9150,9152,9153,9154,9155,9156,9157,9158,9159,9160,9161,9162,9163,9164,9167,9168,9169,9170,9171,9172,9173,9174,9175,9176,9177,9178,9184,9187,9188,9189,9190,9191,9192,9193,9195,9196,9197,9198,9199,9200,9201,9202,9203,9204,9205,9206,9207,9208,9209,9210,9211,9212,9213,9214,9215,9216,9217,9218,9219,9220,9221,9222,9223,9224,9225,9226,9238,9240,9241,9246,9247,9248,9252,9253,9254,9257,9259,9260,9262,9263,9264,9265,9266,9267,9268,9269,9270,9271,9272,9273,9274,9275,9276,9277,9278,9279,9280,9283,9297,9313,9314,9319,9320,9321,9322,9323,9324,9325,9327,9328,9330,9331,9333,9334,9352,9353,9354,9355,9356,9359,9365,9366,9367,9370,9410,9412,9413,9415,9416,9418,9419,9421,9422,9431,9432,9433,9434,9435,9438,9442,9443,9444,9445,9446,9447,9448,9450,9451,9453,9454,9456,9457,9466,9467,9468,9469,9470,9471,9472,9473,9483,9484,9485,9486,9487,9490,9496,9497,9498,9499,9500,9501,9502,9503,9511,9519,9522,9529,9530,9532,9534,9539,9540,9541,9543,9544,9545,9547,9549,9551,9558,9560,9571,9572,9573,9574,9575,9576,9577,9578,9579,9580,9581,9582,9583,9584,9585,9586,9587,9588,9589,9595,9596,9603,9604,9611,9620,9621,9622,9623,9626,9631,9652,9653,9659,9660,9661,9662,9663,9664,9665,9666,9667,9669,9670,9671,9672,9673,9674,9675,9676,9677,9679,9680,9681,9682,9683,9684,9685,9686,9687,9688,9689,9690,9691,9692,9693,9694,9695,9696,9697,9698,9699,9700,9701,9702,9708,9711,9712,9713,9714,9715,9716,9717,9719,9720,9721,9722,9723,9724,9725,9726,9727,9729,9730,9731,9732,9733,9734,9735,9736,9737,9738,9739,9740,9742,9743,9744,9745,9746,9747,9748,9749,9750,9751,9752,9754,9755,9756,9757,9769,9770,9771,9772,9773,9775,9776,9777,9778,9779,9780,9795,9806,9807,9811,9812,9813,9814,9818,9819,9820,9823,9825,9826,9828,9829,9830,9831,9861,9862,9865,9868,9869,9873,9874,9880,9881,9883,9884,9886,9887,9889,9890,9891,9892,9893,9894,9896,9897,9899,9920,9924,9925,9927,9928,9930,9931,9933,9934,9935,9936,9937,9938,9940,9941,9943,9964,9968,9969,9971,9972,9974,9975,9977,9978,9979,9980,9981,9982,9984,9985,9987,10008,10012,10013,10015,10016,10018,10019,10021,10022,10023,10024,10025,10026,10028,10029,10031,10036,10041,10052,10056,10057,10059,10060,10062,10063,10065,10066,10067,10068,10069,10070,10072,10073,10075,10080,10082,10083,10085,10096,10100,10101,10103,10104,10106,10107,10109,10110,10111,10112,10113,10114,10116,10117,10119,10140,10144,10145,10147,10148,10150,10151,10153,10154,10155,10156,10157,10158,10160,10161,10163,10168,10184,10191,10195,10202,10204,10206,10220,10233,10235,10236,10237,10238,10239,10240,10241,10242,10243,10244,10245,10246,10247,10248,10249,10250,10251,10252,10253,10254,10255,10256,10257,10258,10273,10287,10288,10292,10293,10294,10295,10298,10300,10301,10304,10306,10307,10309,10310,10311,10312,10315,10345,10346,10351,10352,10353,10356,10357,10359,10360,10362,10363,10365,10366,10384,10385,10386,10387,10388,10391,10397,10398,10399,10428,10429,10431,10432,10434,10435,10437,10438,10447,10448,10449,10450,10451,10454,10458,10459,10460,10461,10462,10463,10464,10466,10467,10469,10470,10472,10473,10482,10483,10484,10485,10486,10487,10488,10489,10499,10500,10501,10502,10506,10512,10513,10514,10515,10518,10524,10525,10526,10527,10528,10529,10530,10531,10532,10533,10534,10535,10536,10537,10538,10539,10551,10557,10559,10569,10571,10573,10578,10581,10587,10590,10597,10607,10620,10622,10623,10624,10625,10626,10627,10628,10629,10630,10631,10632,10633,10648,10650,10653,10667,10672,10677,10683,10809,10880,10921,10960,11134,11135,11141,11142,11146,11152,11153,11157,11163,11164,11168,11174,11175,11179,11185,11186,11190,11196,11197,11201,11207,11208,11218,11219,11224,11226,11227,11229,11230,11234,11235,11237,11238,11240,11241,11245,11246,11248,11249,11251,11252,11257,11259,11260,11262,11263,11268,11270,11271,11273,11274,11279,11281,11282,11284,11290,11292,11293,11295,11296,11301,11303,11304,11306,11307,11312,11314,11315,11317,11318,11323,11325,11326,11328,11329,11334,11336,11337,11339,11340,11345,11347,11348,11356,11358,11359,11367,11369,11370,11372,11378,11380,11381,11389,11391,11392,11400,11402,11403,11411,11413,11414,11422,11424,11425,11433,11435,11436,11466,11468,11469,11471,11472,11477,11479,11480,11488,11490,11491,11493,11499,11501,11502,11510,11512,11513,11521,11523,11524,11532,11534,11535,11543,11545,11546,11631,11632) have mixed types.Specify dtype option on import or set low_memory=False.\n",
      "  exec(code_obj, self.user_global_ns, self.user_ns)\n"
     ]
    },
    {
     "data": {
      "text/plain": [
       "(9289, 11717)"
      ]
     },
     "execution_count": 170,
     "metadata": {},
     "output_type": "execute_result"
    }
   ],
   "source": [
    "# Replace the path with your path to the data, or drop the csv to the data_source directory\n",
    "original_full_df = pd.read_csv('data_source/nuMoM2b_Dataset_NICHD Data Challenge.csv')\n",
    "original_full_df.shape"
   ]
  },
  {
   "cell_type": "markdown",
   "id": "986d763d",
   "metadata": {},
   "source": [
    "## Create a dataframe with only pregnancy outcome data"
   ]
  },
  {
   "cell_type": "code",
   "execution_count": 171,
   "id": "5140493a",
   "metadata": {},
   "outputs": [
    {
     "name": "stderr",
     "output_type": "stream",
     "text": [
      "<ipython-input-171-4400de271e33>:5: SettingWithCopyWarning: \n",
      "A value is trying to be set on a copy of a slice from a DataFrame\n",
      "\n",
      "See the caveats in the documentation: https://pandas.pydata.org/pandas-docs/stable/user_guide/indexing.html#returning-a-view-versus-a-copy\n",
      "  Preg_Outcomes[\"Blood_Transfusion\"][Preg_Outcomes.Blood_Transfusion.isna()] = original_full_df.CMAE11[original_full_df.CMAE11.isna()]\n"
     ]
    },
    {
     "data": {
      "text/plain": [
       "(9289, 13)"
      ]
     },
     "execution_count": 171,
     "metadata": {},
     "output_type": "execute_result"
    }
   ],
   "source": [
    "Preg_Outcomes = pd.DataFrame()\n",
    "Preg_Outcomes['PublicID'] = original_full_df.PublicID\n",
    "Preg_Outcomes[\"Stroke/Cerebrovascular_Accident\"] = original_full_df.VXXB01ar_FA\n",
    "Preg_Outcomes[\"Blood_Transfusion\"] = (original_full_df.CMAE11==1)*1.0\n",
    "Preg_Outcomes[\"Blood_Transfusion\"][Preg_Outcomes.Blood_Transfusion.isna()] = original_full_df.CMAE11[original_full_df.CMAE11.isna()]\n",
    "Preg_Outcomes[ \"Myocardial_Infarction/Heart_Attack\"] = original_full_df.VXXB01aj_FA\n",
    "Preg_Outcomes[\"Renal_Failure\"] = original_full_df.VXXB01al_FA\n",
    "Preg_Outcomes[\"Eclampsia\"] = (original_full_df.PEgHTN==1)*1.0\n",
    "Preg_Outcomes[\"Maternal_Sepsis\"] = (original_full_df.CMEA02==1)*1.0\n",
    "Preg_Outcomes[\"GDM\"] = (original_full_df.oDM==2)*1.0\n",
    "Preg_Outcomes[\"Pre-DM\"] = (original_full_df.oDM==1)*1.0\n",
    "Preg_Outcomes[\"Pre_Eclampsia\"] = ((original_full_df.PEgHTN==2) |(original_full_df.PEgHTN==3)| (original_full_df.PEgHTN==4) )*1.0\n",
    "Preg_Outcomes[\"Hypertension\"] = ((original_full_df.PEgHTN==5) |(original_full_df.PEgHTN==6))*1.0\n",
    "Preg_Outcomes[\"Pre-term_Birth\"] = (original_full_df.TYPE_CA_A09==\"iPTLB\")*1.0\n",
    "Preg_Outcomes[\"Still Birth\"] = (original_full_df.A09A02==2)*1.0                                 \n",
    "Preg_Outcomes.shape"
   ]
  },
  {
   "cell_type": "markdown",
   "id": "85676b14",
   "metadata": {},
   "source": [
    "## Writes it to data_source directory to use it later on"
   ]
  },
  {
   "cell_type": "code",
   "execution_count": 172,
   "id": "cec6d076",
   "metadata": {},
   "outputs": [],
   "source": [
    "Preg_Outcomes.to_csv('data_source/preg_outcomes.csv',index=False)"
   ]
  },
  {
   "cell_type": "markdown",
   "id": "53478253",
   "metadata": {},
   "source": [
    "## Create a dataframe with baseline features that we think we be useful for GDM"
   ]
  },
  {
   "cell_type": "code",
   "execution_count": 173,
   "id": "855c9fbc",
   "metadata": {},
   "outputs": [
    {
     "name": "stderr",
     "output_type": "stream",
     "text": [
      "<ipython-input-173-0f4f0b70cb90>:33: RuntimeWarning: Mean of empty slice\n",
      "  mean_weight = np.nanmean([original_full_df[\"WEIGHT\"].apply(parse_to_float), original_full_df[\"V1BA01_LB\"].apply(parse_to_float), (2.20462* original_full_df[\"V1BA01_KG\"].apply(parse_to_float))], axis = 0)\n",
      "<ipython-input-173-0f4f0b70cb90>:37: RuntimeWarning: Mean of empty slice\n",
      "  BP_syst = np.nanmean([original_full_df[\"V1BA06a1\"].apply(parse_to_float), original_full_df[\"V1BA06a2\"].apply(parse_to_float)], axis = 0)\n",
      "<ipython-input-173-0f4f0b70cb90>:38: RuntimeWarning: Mean of empty slice\n",
      "  BP_dias = np.nanmean([original_full_df[\"V1BA06b1\"].apply(parse_to_float), original_full_df[\"V1BA06b2\"].apply(parse_to_float)], axis = 0)\n"
     ]
    },
    {
     "data": {
      "text/plain": [
       "(9289, 31)"
      ]
     },
     "execution_count": 173,
     "metadata": {},
     "output_type": "execute_result"
    }
   ],
   "source": [
    "def parse_to_float(x):\n",
    "    try: \n",
    "        return np.float64(x)\n",
    "    except ValueError:\n",
    "        return np.nan\n",
    "    \n",
    "BL = pd.DataFrame()\n",
    "\n",
    "# Participant IDs\n",
    "BL['PublicID'] = original_full_df.PublicID\n",
    "\n",
    "# Age and Age category\n",
    "BL[\"Age\"] = original_full_df.Age_at_V1\n",
    "BL[\"AgeCat\"] = original_full_df.AgeCat_V1\n",
    "\n",
    "# BMI and BMI category\n",
    "BL[\"BMI_Cat\"] = original_full_df.BMI_Cat\n",
    "BL[\"BMI\"] = original_full_df.BMI\n",
    "\n",
    "# Self-reported Race\n",
    "BL[\"Race\"] = original_full_df.Race\n",
    "\n",
    "# Family History (first-degree relative) of diabetes\n",
    "BL[\"Diabetes_History\"] = (original_full_df[\"V2AE04\"].apply(parse_to_float))\n",
    "\n",
    "# Previous diagbosis of PCOS\n",
    "BL[\"PCOS\"]= (original_full_df.VXXB01bc3_FA.apply(parse_to_float))\n",
    "\n",
    "# Gravidity\n",
    "BL[\"Gravidity\"] = original_full_df.GravCat\n",
    "\n",
    "# Weight\n",
    "mean_weight = np.nanmean([original_full_df[\"WEIGHT\"].apply(parse_to_float), original_full_df[\"V1BA01_LB\"].apply(parse_to_float), (2.20462* original_full_df[\"V1BA01_KG\"].apply(parse_to_float))], axis = 0)\n",
    "BL[\"Weight\"] = mean_weight\n",
    "\n",
    "# Blood Pressure\n",
    "BP_syst = np.nanmean([original_full_df[\"V1BA06a1\"].apply(parse_to_float), original_full_df[\"V1BA06a2\"].apply(parse_to_float)], axis = 0)\n",
    "BP_dias = np.nanmean([original_full_df[\"V1BA06b1\"].apply(parse_to_float), original_full_df[\"V1BA06b2\"].apply(parse_to_float)], axis = 0)\n",
    "BL[\"BP_Systolic\"] = BP_syst\n",
    "BL[\"BP_Diastolic\"] = BP_dias\n",
    "\n",
    "### The following features are added on 10/13/21\n",
    "\n",
    "# Exercise (Using Visit 1 METs as measure)\n",
    "Agg_METs = 1.0*(original_full_df.Visit == 1) * original_full_df.TimesPerWeek.apply(parse_to_float) * original_full_df.MinsPerTime.apply(parse_to_float)*original_full_df.METs.apply(parse_to_float)\n",
    "Agg_METs_1 = 1.0*(original_full_df.Visit_1 == 1) * original_full_df.TimesPerWeek_1.apply(parse_to_float) * original_full_df.MinsPerTime_1.apply(parse_to_float)*original_full_df.METs_1.apply(parse_to_float)\n",
    "Agg_METs_2 = 1.0*(original_full_df.Visit_2 == 1) * original_full_df.TimesPerWeek_2.apply(parse_to_float) * original_full_df.MinsPerTime_2.apply(parse_to_float)*original_full_df.METs_2.apply(parse_to_float)\n",
    "Total_METs = Agg_METs + Agg_METs_1 + Agg_METs_2\n",
    "BL[\"Total_METs\"] = Total_METs\n",
    "\n",
    "# Smoking Status and counts\n",
    "Smoking_status = original_full_df[\"V1AG05\"].apply(parse_to_float)# Did you smoke any tobacco products in the three months prior to this pregnancy?\n",
    "Smoking_counts = original_full_df[\"V1AG05a\"].apply(parse_to_float) # How many cigarettes did you smoke per day in the three months prior to this pregnancy? - # per day\n",
    "BL['Smoking_Status'] = Smoking_status\n",
    "BL['Smoking_Counts'] = Smoking_counts\n",
    "\n",
    "# Drinking Status\n",
    "Drinking_status = original_full_df[\"V1AG02\"].apply(parse_to_float) #Did you drink any alcoholic beverages in the three months prior to this pregnancy?\n",
    "\n",
    "BL['Drinking_Status'] = Drinking_status # Some oddities exist, need to process later\n",
    "\n",
    "# Drugs use (Ever)\n",
    "# Marijuana, Cocaine, Prescription narcotics not prescribed for you, Heroin, Methadone, Amphetamines, Inhalants, Hallucinogens\n",
    "# Drugs_in_preg_any = (original_full_df.V1AG12a == 1) | (original_full_df.V1AG12b ==1) | (original_full_df.V1AG12c ==1) | (original_full_df.V1AG12d == 1) | (original_full_df.V1AG12d1 == 1) | (original_full_df.V1AG12d2 == 1) | (original_full_df.V1AG12d3 == 1) | (original_full_df.V1AG12d4 == 1) | (original_full_df.V1AG12e == 1) | (original_full_df.V1AG12f == 1) | (original_full_df.V1AG12g == 1)| (original_full_df.V1AG12h == 1) |  (original_full_df.V1AG12i == 1)\n",
    "\n",
    "# Drug use (During pregnancy)\n",
    "# Any drug use around time of pregnancy\n",
    "Drugs_in_pregnancy_V2 = (original_full_df.V2AH07a ==1) | (original_full_df.V2AH07b ==1) | (original_full_df.V2AH07c ==1) | (original_full_df.V2AH07d ==1) | (original_full_df.V2AH07e==1) | (original_full_df.V2AH07f==1) | (original_full_df.V2AH07g==1)| (original_full_df.V2AH07h==1) | (original_full_df.V2AH07i==1)\n",
    "BL['Drug_use_near_pregnancy'] = Drugs_in_pregnancy_V2\n",
    "\n",
    "#Poverty\n",
    "#1\t> 200% of fed poverty level\n",
    "#2\t100-200% of fed poverty level\n",
    "#3\t< 100% of fed poverty level\n",
    "Poverty_level = original_full_df[\"poverty\"] # Poverty category based on income (V1AF14) and household size (V1AF13) relative to 2013 federal poverty guidelines\n",
    "BL['Poverty_level'] = Poverty_level\n",
    "\n",
    "#Education\n",
    "#Education_v1\t1\tLess than HS grad\n",
    "#Education_v1\t2\tHS grad or GED\n",
    "#Education_v1\t3\tSome college\n",
    "#Education_v1\t4\tAssoc/Tech degree\n",
    "#Education_v1\t5\tCompleted college\n",
    "#Education_v1\t6\tDegree work beyond college\n",
    "BL['Education_level'] = original_full_df[\"Education\"]\n",
    "\n",
    "#Nutrition\n",
    "Nutrion_columns = [\"AHEI_VEGS\", \"AHEI_FRUITS\", \"AHEI_WGRAINS\", \"AHEI_SUGBEVS\", \"AHEI_NUTLEGS\", \"AHEI_RMEATS\",\"AHEI_TRFATPCT\", \"AHEI_DHAEPA\", \"AHEI_PUFAPCT\", \"AHEI_SODIUM\", \"AHEI_ALCDRKS\", \"AHEI2010\"]\n",
    "BL[Nutrion_columns] = original_full_df[Nutrion_columns]\n",
    "\n",
    "BL.shape"
   ]
  },
  {
   "cell_type": "markdown",
   "id": "7ac755a9",
   "metadata": {},
   "source": [
    "## Writes it to data_source directory to use it later on"
   ]
  },
  {
   "cell_type": "code",
   "execution_count": 174,
   "id": "28e55c73",
   "metadata": {},
   "outputs": [],
   "source": [
    "BL.to_csv(\"data_source/baseline_data_2021_10_13.csv\",index=False)"
   ]
  },
  {
   "cell_type": "markdown",
   "id": "204fe87c",
   "metadata": {},
   "source": [
    "# Inspect the two dataframe"
   ]
  },
  {
   "cell_type": "code",
   "execution_count": 175,
   "id": "f7a28ab5",
   "metadata": {},
   "outputs": [
    {
     "data": {
      "text/plain": [
       "(9289, 31)"
      ]
     },
     "execution_count": 175,
     "metadata": {},
     "output_type": "execute_result"
    }
   ],
   "source": [
    "og_baseline_data = pd.read_csv(\"data_source/baseline_data_2021_10_13.csv\")\n",
    "og_baseline_data.shape"
   ]
  },
  {
   "cell_type": "code",
   "execution_count": 176,
   "id": "51cbf7c6",
   "metadata": {},
   "outputs": [
    {
     "data": {
      "text/plain": [
       "(9289, 13)"
      ]
     },
     "execution_count": 176,
     "metadata": {},
     "output_type": "execute_result"
    }
   ],
   "source": [
    "og_outcome_data = pd.read_csv(\"data_source/preg_outcomes.csv\")\n",
    "og_outcome_data.shape"
   ]
  },
  {
   "cell_type": "markdown",
   "id": "40666b09",
   "metadata": {},
   "source": [
    "# Merge outcome with baseline data"
   ]
  },
  {
   "cell_type": "code",
   "execution_count": 177,
   "id": "bc570b92",
   "metadata": {},
   "outputs": [
    {
     "data": {
      "text/plain": [
       "(9289, 43)"
      ]
     },
     "execution_count": 177,
     "metadata": {},
     "output_type": "execute_result"
    }
   ],
   "source": [
    "big_df = pd.merge(og_baseline_data,og_outcome_data,on='PublicID')\n",
    "big_df.shape\n"
   ]
  },
  {
   "cell_type": "markdown",
   "id": "7d084eaf",
   "metadata": {},
   "source": [
    "# Preprocessing - Age\n",
    "Missing age are put into category 0"
   ]
  },
  {
   "cell_type": "code",
   "execution_count": 178,
   "id": "8a44f6ad",
   "metadata": {},
   "outputs": [
    {
     "data": {
      "text/plain": [
       "2.0    8186\n",
       "3.0     730\n",
       "1.0     226\n",
       "4.0     137\n",
       "0.0      10\n",
       "Name: AgeCat, dtype: int64"
      ]
     },
     "execution_count": 178,
     "metadata": {},
     "output_type": "execute_result"
    }
   ],
   "source": [
    "big_df.loc[big_df['AgeCat'].isna(),'AgeCat'] = 0\n",
    "big_df['AgeCat'].value_counts()"
   ]
  },
  {
   "cell_type": "markdown",
   "id": "61bfadf9",
   "metadata": {},
   "source": [
    "## Preprocessing - BMI\n",
    "Missing BMI are put into category 0"
   ]
  },
  {
   "cell_type": "code",
   "execution_count": 179,
   "id": "fdbcce0d",
   "metadata": {},
   "outputs": [
    {
     "data": {
      "text/plain": [
       "2.0    4585\n",
       "3.0    2266\n",
       "4.0    1083\n",
       "5.0     933\n",
       "1.0     212\n",
       "0.0     210\n",
       "Name: BMI_Cat, dtype: int64"
      ]
     },
     "execution_count": 179,
     "metadata": {},
     "output_type": "execute_result"
    }
   ],
   "source": [
    "big_df.loc[big_df['BMI_Cat'].isna(),'BMI_Cat'] = 0\n",
    "big_df['BMI_Cat'].value_counts()"
   ]
  },
  {
   "cell_type": "markdown",
   "id": "87cd18ad",
   "metadata": {},
   "source": [
    "# Preprocessing - Diabetes_History\n",
    "\n",
    "Missing diabetes History - > 0\n",
    "\n",
    "No first degree relative has diabetes -> 1\n",
    "\n",
    "Any first degree relative has diabetes -> 2"
   ]
  },
  {
   "cell_type": "code",
   "execution_count": 180,
   "id": "fd150d5b",
   "metadata": {},
   "outputs": [
    {
     "data": {
      "text/plain": [
       "2.0    6708\n",
       "1.0    1918\n",
       "Name: Diabetes_History, dtype: int64"
      ]
     },
     "execution_count": 180,
     "metadata": {},
     "output_type": "execute_result"
    }
   ],
   "source": [
    "big_df['Diabetes_History'].value_counts()"
   ]
  },
  {
   "cell_type": "code",
   "execution_count": 181,
   "id": "9d77b5fb",
   "metadata": {},
   "outputs": [
    {
     "data": {
      "text/plain": [
       "1    6708\n",
       "2    1918\n",
       "0     663\n",
       "Name: Diabetes_History_Cat, dtype: int64"
      ]
     },
     "execution_count": 181,
     "metadata": {},
     "output_type": "execute_result"
    }
   ],
   "source": [
    "big_df['Diabetes_History_Cat'] = 0\n",
    "big_df.loc[big_df['Diabetes_History'] == 2,'Diabetes_History_Cat'] = 1\n",
    "big_df.loc[big_df['Diabetes_History'] == 1,'Diabetes_History_Cat'] = 2\n",
    "big_df['Diabetes_History_Cat'].value_counts()"
   ]
  },
  {
   "cell_type": "markdown",
   "id": "01401c25",
   "metadata": {},
   "source": [
    "## Preprocessing - PCOS\n",
    "Missing PCOS -> 0 (None)\n",
    "\n",
    "No personal history of PCOS -> 1\n",
    "\n",
    "Previously diagnosed with PCOS -> 2"
   ]
  },
  {
   "cell_type": "code",
   "execution_count": 182,
   "id": "fba76e57",
   "metadata": {},
   "outputs": [
    {
     "data": {
      "text/plain": [
       "1    9019\n",
       "0     270\n",
       "Name: PCOS_Cat, dtype: int64"
      ]
     },
     "execution_count": 182,
     "metadata": {},
     "output_type": "execute_result"
    }
   ],
   "source": [
    "big_df['PCOS_Cat'] = 0\n",
    "big_df.loc[big_df['PCOS'] == 0,'PCOS_Cat'] = 1\n",
    "big_df.loc[big_df['PCOS'] == 1,'PCOS_Cat'] = 1\n",
    "big_df['PCOS_Cat'].value_counts()"
   ]
  },
  {
   "cell_type": "markdown",
   "id": "8bb2c38f",
   "metadata": {},
   "source": [
    "# Preprocessing - Gravidity\n",
    "Missing Gravidity are put into category 0\n",
    "\n",
    "Gravidity of 1 is put into category 1\n",
    "\n",
    "Gravidity of more than 1 is put into category 2"
   ]
  },
  {
   "cell_type": "code",
   "execution_count": 183,
   "id": "1e716b07",
   "metadata": {},
   "outputs": [
    {
     "data": {
      "text/plain": [
       "1    6882\n",
       "2    2397\n",
       "0      10\n",
       "Name: Gravidity_Cat, dtype: int64"
      ]
     },
     "execution_count": 183,
     "metadata": {},
     "output_type": "execute_result"
    }
   ],
   "source": [
    "big_df['Gravidity_Cat'] = 0\n",
    "big_df.loc[big_df['Gravidity'] == 1,'Gravidity_Cat'] = 1\n",
    "big_df.loc[big_df['Gravidity'] > 1,'Gravidity_Cat'] = 2\n",
    "big_df['Gravidity_Cat'].value_counts()"
   ]
  },
  {
   "cell_type": "markdown",
   "id": "ee2de243",
   "metadata": {},
   "source": [
    "# Preprocessing - Weight\n",
    "Missing weight is put into category 0\n",
    "Non-missing weight is put into category 1"
   ]
  },
  {
   "cell_type": "code",
   "execution_count": 184,
   "id": "4f7066b3",
   "metadata": {},
   "outputs": [
    {
     "data": {
      "text/plain": [
       "1    9224\n",
       "0      65\n",
       "Name: Weight_Cat, dtype: int64"
      ]
     },
     "execution_count": 184,
     "metadata": {},
     "output_type": "execute_result"
    }
   ],
   "source": [
    "big_df['Weight_Cat'] = 1\n",
    "big_df.loc[big_df['Weight'].isna(),'Weight_Cat'] = 0\n",
    "big_df['Weight_Cat'].value_counts()"
   ]
  },
  {
   "cell_type": "markdown",
   "id": "bec84d4f",
   "metadata": {},
   "source": [
    "# Preprocessing - HiBP\n",
    "Using https://www.health.harvard.edu/heart-health/reading-the-new-blood-pressure-guidelines as guideline\n",
    "One is considered HiBP if BP fits criteria Hypertension 1, that is\n",
    "\n",
    "Systolic at least 130 OR Diastolic at least 80\n",
    "\n",
    "Missing BP is category 0\n",
    "\n",
    "Normal BP is category 1\n",
    "\n",
    "High BP is category 2"
   ]
  },
  {
   "cell_type": "code",
   "execution_count": 185,
   "id": "6f830832",
   "metadata": {},
   "outputs": [
    {
     "data": {
      "text/plain": [
       "1    8026\n",
       "2    1061\n",
       "0     202\n",
       "Name: High_BP_Cat, dtype: int64"
      ]
     },
     "execution_count": 185,
     "metadata": {},
     "output_type": "execute_result"
    }
   ],
   "source": [
    "big_df['High_BP_Cat'] = 1\n",
    "big_df.loc[(big_df['BP_Systolic'] >= 130)|(big_df['BP_Diastolic']>=80),'High_BP_Cat'] = 2\n",
    "big_df.loc[(big_df['BP_Systolic'].isna())|big_df['BP_Diastolic'].isna(),'High_BP_Cat'] = 0\n",
    "big_df['High_BP_Cat'].value_counts()"
   ]
  },
  {
   "cell_type": "markdown",
   "id": "e4a41fcc",
   "metadata": {},
   "source": [
    "# Preprocessing - Exercise\n",
    "\n",
    "The US federal guideline recommend at least 150 minutes per week of moderate-intensity physical exercise (or 450 METs)\n",
    "\n",
    "Participants who have missing METs data are put in category 0\n",
    "\n",
    "Participants who have below 450 METs are categorized as physically inactive (cateogry 1)\n",
    "\n",
    "Participants who have above or equal 450 METs are categorized as physically active (category 2)\n"
   ]
  },
  {
   "cell_type": "code",
   "execution_count": 186,
   "id": "92f96350",
   "metadata": {},
   "outputs": [
    {
     "data": {
      "text/plain": [
       "0    4324\n",
       "2    3391\n",
       "1    1574\n",
       "Name: Exercise_Cat, dtype: int64"
      ]
     },
     "execution_count": 186,
     "metadata": {},
     "output_type": "execute_result"
    }
   ],
   "source": [
    "big_df['Exercise_Cat'] = 0\n",
    "big_df.loc[(big_df['Total_METs'] < 450),'Exercise_Cat'] = 1\n",
    "big_df.loc[(big_df['Total_METs'] >= 450),'Exercise_Cat'] = 2\n",
    "big_df['Exercise_Cat'].value_counts()"
   ]
  },
  {
   "cell_type": "markdown",
   "id": "74cf5367",
   "metadata": {},
   "source": [
    "# Preprocessing - Smoking\n",
    "\n",
    "Participants who have missing smoking data are put in category 0 (None is put into this category)\n",
    "\n",
    "Participants who did not smoke within 3 months of pregnancy are put in cateogry 1\n",
    "\n",
    "Participants who did smoke within 3 months of pregnancy are put in cateogry 2"
   ]
  },
  {
   "cell_type": "code",
   "execution_count": 187,
   "id": "f4ae3f2c",
   "metadata": {},
   "outputs": [
    {
     "data": {
      "text/plain": [
       "0    5418\n",
       "1    2200\n",
       "2    1671\n",
       "Name: Smoking_Cat, dtype: int64"
      ]
     },
     "execution_count": 187,
     "metadata": {},
     "output_type": "execute_result"
    }
   ],
   "source": [
    "big_df['Smoking_Cat'] = 0\n",
    "big_df.loc[(big_df['Smoking_Status'])==2,'Smoking_Cat'] = 1\n",
    "big_df.loc[(big_df['Smoking_Status'])==1,'Smoking_Cat'] = 2\n",
    "big_df['Smoking_Cat'].value_counts()"
   ]
  },
  {
   "cell_type": "markdown",
   "id": "573c50bb",
   "metadata": {},
   "source": [
    "# Preprocessing - Drinking\n",
    "\n",
    "Participants who have missing drinking data are put in category 0\n",
    "\n",
    "Participants who did not consume alcoholic drink within 3 months of pregnancy are put in cateogry 1\n",
    "\n",
    "Participants who did consume alcoholic drink within 3 months of pregnancy are put in cateogry 2"
   ]
  },
  {
   "cell_type": "code",
   "execution_count": 188,
   "id": "7a90eab8",
   "metadata": {},
   "outputs": [
    {
     "data": {
      "text/plain": [
       "1    5983\n",
       "2    1985\n",
       "0    1321\n",
       "Name: Drinking_Cat, dtype: int64"
      ]
     },
     "execution_count": 188,
     "metadata": {},
     "output_type": "execute_result"
    }
   ],
   "source": [
    "big_df['Drinking_Cat'] = 0\n",
    "big_df.loc[(big_df['Drinking_Status']==1),'Drinking_Cat'] = 1\n",
    "big_df.loc[(big_df['Drinking_Status']==2),'Drinking_Cat'] = 2\n",
    "big_df['Drinking_Cat'].value_counts()"
   ]
  },
  {
   "cell_type": "markdown",
   "id": "3937c502",
   "metadata": {},
   "source": [
    "# Preprocessing - Drug Use\n",
    "Was any drugs used around the time of pregnancy (1 month prior to visit 2) ?\n",
    "\n",
    "Participants who have missing drug use data are put in category 0 (None)\n",
    "\n",
    "Participants who did not use any drugs are put in cateogry 1\n",
    "\n",
    "Participants who did use drugs are put in cateogry 2"
   ]
  },
  {
   "cell_type": "code",
   "execution_count": 189,
   "id": "38f4ad5f",
   "metadata": {},
   "outputs": [
    {
     "data": {
      "text/plain": [
       "1    9187\n",
       "2     102\n",
       "Name: Drug_Cat, dtype: int64"
      ]
     },
     "execution_count": 189,
     "metadata": {},
     "output_type": "execute_result"
    }
   ],
   "source": [
    "big_df['Drug_Cat'] = 0\n",
    "big_df.loc[(~big_df['Drug_use_near_pregnancy']),'Drug_Cat'] = 1\n",
    "big_df.loc[(big_df['Drug_use_near_pregnancy']),'Drug_Cat'] = 2\n",
    "big_df['Drug_Cat'].value_counts()"
   ]
  },
  {
   "cell_type": "markdown",
   "id": "b8da1bf3",
   "metadata": {},
   "source": [
    "# Preprocessing - Poverty Level\n",
    "\n",
    "Participants who have missing data are put in category 0\n",
    "\n",
    "Participants who are below federal poverty level are category 1\n",
    "\n",
    "Participants who are above federal poverty level are cateogry 2"
   ]
  },
  {
   "cell_type": "code",
   "execution_count": 190,
   "id": "673e91db",
   "metadata": {},
   "outputs": [
    {
     "data": {
      "text/plain": [
       "2    6321\n",
       "0    1751\n",
       "1    1217\n",
       "Name: Poverty_Cat, dtype: int64"
      ]
     },
     "execution_count": 190,
     "metadata": {},
     "output_type": "execute_result"
    }
   ],
   "source": [
    "big_df['Poverty_Cat'] = 0\n",
    "big_df.loc[(big_df['Poverty_level'] == 3),'Poverty_Cat'] = 1\n",
    "big_df.loc[(big_df['Poverty_level'] == 1)|(big_df['Poverty_level'] == 2),'Poverty_Cat'] = 2\n",
    "big_df['Poverty_Cat'].value_counts()"
   ]
  },
  {
   "cell_type": "markdown",
   "id": "ba6df306",
   "metadata": {},
   "source": [
    "# Preprocessing - Education_level\n",
    "Participants who have missing Education data are put in category 0\n",
    "\n",
    "Participants who did not obtain any form of college degree are put in category 1\n",
    "\n",
    "Participants who obtained any form of college degree are put in category 2"
   ]
  },
  {
   "cell_type": "code",
   "execution_count": 191,
   "id": "1f32cf86",
   "metadata": {},
   "outputs": [
    {
     "data": {
      "text/plain": [
       "2    7421\n",
       "1    1850\n",
       "0      18\n",
       "Name: Education_Cat, dtype: int64"
      ]
     },
     "execution_count": 191,
     "metadata": {},
     "output_type": "execute_result"
    }
   ],
   "source": [
    "big_df['Education_Cat'] = 0\n",
    "big_df.loc[(big_df['Education_level'] < 3),'Education_Cat'] = 1\n",
    "big_df.loc[(big_df['Education_level'] >= 3),'Education_Cat'] = 2\n",
    "big_df['Education_Cat'].value_counts()"
   ]
  },
  {
   "cell_type": "markdown",
   "id": "510b5dc2",
   "metadata": {},
   "source": [
    "# Preprocessing -Outcome\n",
    "Missing outcomes are out into category 0 (treated as the outcome did not happen)"
   ]
  },
  {
   "cell_type": "code",
   "execution_count": 192,
   "id": "396746d6",
   "metadata": {},
   "outputs": [
    {
     "data": {
      "text/plain": [
       "Index(['PublicID', 'Stroke/Cerebrovascular_Accident', 'Blood_Transfusion',\n",
       "       'Myocardial_Infarction/Heart_Attack', 'Renal_Failure', 'Eclampsia',\n",
       "       'Maternal_Sepsis', 'GDM', 'Pre-DM', 'Pre_Eclampsia', 'Hypertension',\n",
       "       'Pre-term_Birth', 'Still Birth'],\n",
       "      dtype='object')"
      ]
     },
     "execution_count": 192,
     "metadata": {},
     "output_type": "execute_result"
    }
   ],
   "source": [
    "outcome_columns = og_outcome_data.columns\n",
    "outcome_columns"
   ]
  },
  {
   "cell_type": "code",
   "execution_count": 193,
   "id": "1a2daf55",
   "metadata": {},
   "outputs": [
    {
     "data": {
      "text/plain": [
       "(9289, 54)"
      ]
     },
     "execution_count": 193,
     "metadata": {},
     "output_type": "execute_result"
    }
   ],
   "source": [
    "big_df.loc[:,outcome_columns] = big_df.loc[:,outcome_columns].fillna(0)\n",
    "big_df.shape"
   ]
  },
  {
   "cell_type": "markdown",
   "id": "9e8c6dc9",
   "metadata": {},
   "source": [
    "# Preprocessing - Exclude Pre-DM\n",
    "\n",
    "Participants whose are already diagnosed with diabetes are excluded"
   ]
  },
  {
   "cell_type": "code",
   "execution_count": 194,
   "id": "6d1e6aee",
   "metadata": {},
   "outputs": [
    {
     "data": {
      "text/plain": [
       "(9151, 54)"
      ]
     },
     "execution_count": 194,
     "metadata": {},
     "output_type": "execute_result"
    }
   ],
   "source": [
    "big_df = big_df[big_df['Pre-DM'] == 0].copy()\n",
    "big_df.shape"
   ]
  },
  {
   "cell_type": "markdown",
   "id": "239227e8",
   "metadata": {},
   "source": [
    "# Preprocessing Done"
   ]
  },
  {
   "cell_type": "code",
   "execution_count": 195,
   "id": "ff8e79a8",
   "metadata": {},
   "outputs": [],
   "source": [
    "big_df.to_csv('data_source/baseline_data_2021_10_13_AR_Ready.csv',index=False)"
   ]
  },
  {
   "cell_type": "code",
   "execution_count": null,
   "id": "ea15db29",
   "metadata": {},
   "outputs": [],
   "source": []
  }
 ],
 "metadata": {
  "kernelspec": {
   "display_name": "Python 3",
   "language": "python",
   "name": "python3"
  },
  "language_info": {
   "codemirror_mode": {
    "name": "ipython",
    "version": 3
   },
   "file_extension": ".py",
   "mimetype": "text/x-python",
   "name": "python",
   "nbconvert_exporter": "python",
   "pygments_lexer": "ipython3",
   "version": "3.9.6"
  }
 },
 "nbformat": 4,
 "nbformat_minor": 5
}
